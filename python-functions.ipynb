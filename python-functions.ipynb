{
 "cells": [
  {
   "cell_type": "markdown",
   "metadata": {},
   "source": [
    "# Functions\n",
    "\n",
    "## Overview\n",
    "\n",
    "Consider the following steps\n",
    "\n",
    "* Get dog lead \n",
    "* Get poo bags\n",
    "* Put collar on dog\n",
    "* Walk dog around the route\n",
    "* Return home\n",
    "* Give the dog fresh water\n",
    "* Give the dog food\n",
    "\n",
    "If you're a dog owner this is pretty much the daily routine, in fact you probably execute the same steps at least twice a day.\n",
    "\n",
    "If you have a dog sitter or friend looking after your pet you may even write these steps down.  In computing terms these set of steps would likely be encapsulated as a 'method' or 'function' (we'll cover the difference in those terms later); a task that can be re-used many times without having to write the code for every case where you need it.  You can declare the function once and then call it when needed, for example:\n",
    "\n",
    "```\n",
    "def walk_dog():\n",
    "  get_lead()\n",
    "  get_poo_bags()\n",
    "  put_collar_on_dog()\n",
    "  walk_dog_around_route()\n",
    "  return_home()\n",
    "  give_dog_water()\n",
    "  give_dog_food()\n",
    "\n",
    "```\n",
    "\n",
    "You can call, run, execute, or 'do' those steps using the following line of code\n",
    "\n",
    "```\n",
    "walk_dog()\n",
    "```\n",
    "\n",
    "Every time you write the name of the function followed by parentheses, '()', your code gets run. \n",
    "You'll notice that the steps in our walk_dog() method also look like function calls themselves, quite often this will be the case as you build up other tasks as sets of steps and then re-use these.\n",
    "\n",
    "### Exercises\n",
    "\n",
    "#### Call a Function\n",
    "\n",
    "Complete the code below so that it calls the declared function"
   ]
  },
  {
   "cell_type": "code",
   "execution_count": null,
   "metadata": {
    "collapsed": false
   },
   "outputs": [],
   "source": [
    "def my_method():\n",
    "    someString = \"Hello Affi dog!\"\n",
    "    print(someString)\n",
    "    \n",
    "# Call the my_method() method here\n",
    "\n",
    "# Run this code to see the output, it should print the someString message\n"
   ]
  },
  {
   "cell_type": "markdown",
   "metadata": {},
   "source": [
    "#### Declare a Function\n",
    "\n",
    "Compete the code below so that it declares a function that will print \"Step1: Learn to program\", \"Step2: Write programs\".  There is already the line of code that will call this function."
   ]
  },
  {
   "cell_type": "code",
   "execution_count": null,
   "metadata": {
    "collapsed": false
   },
   "outputs": [],
   "source": [
    "# Delcare function here\n",
    "\n",
    "\n",
    "# Declare function above\n",
    "\n",
    "# This is the call to the function\n",
    "firstSteps()\n"
   ]
  },
  {
   "cell_type": "markdown",
   "metadata": {},
   "source": [
    "## Arguments\n",
    "\n",
    "Functions can take values which they can use to carry out their work.  A value that is passed to a method is called an argument or parameter, they are very similar to letters in algebra equations or variables in programming languages.  In fact, when you declare a method with arguments you are creating variables which will hold the values being passed.\n",
    "\n",
    "For example\n",
    "\n",
    "```\n",
    "def printWithStars(stringToPrint):\n",
    "  print(\"***\" + stringToPrint + \"***\")\n",
    "\n",
    "\n",
    "printWithStars(\"Hello World\")\n",
    "```\n",
    "\n",
    "You can pass in multiple arguments, for example\n",
    "\n",
    "```\n",
    "def printGreeting(greeting, who):\n",
    "  print(\"I say \" + greeting + \" to \" + who)\n",
    "  \n",
    "printGreeting(\"hello\", \"the sunshine\")\n",
    "```\n",
    "\n",
    "An important property for python arguments is that they are passed by reference.  This may not quite make sense yet but, in short, the things that variables hold are actually pointers to objects.  It's kind of like having a group of friends round for your birthday and each one points to the wrapped gift that they brought on the pile in front of you.\n",
    "\n",
    "In that scenario you could have two friends who contributed to the same gift in which case they will be pointing at one present.  In much the same way lots of variables can all point at the same object.  This pointer is called a 'reference'.\n",
    "\n",
    "What this means is that changes to a given object will be reflected outside of the function, for example run the following code to see what happens:"
   ]
  },
  {
   "cell_type": "code",
   "execution_count": 6,
   "metadata": {
    "collapsed": false
   },
   "outputs": [
    {
     "name": "stdout",
     "output_type": "stream",
     "text": [
      "('Start of changeArray: ', ['Fred', 'Jim'])\n",
      "('End of changeArray: ', ['Fred', 'Jim', 'Sheila'])\n",
      "('Now the array is: ', ['Fred', 'Jim', 'Sheila'])\n"
     ]
    }
   ],
   "source": [
    "def changeArray(arrayToChange):\n",
    "    print(\"Start of changeArray: \", arrayToChange)\n",
    "    arrayToChange.append('Sheila')\n",
    "    print(\"End of changeArray: \", arrayToChange)\n",
    "    \n",
    "arrayArgument = [ 'Fred', 'Jim']\n",
    "changeArray(arrayArgument)\n",
    "print(\"Now the array is: \", arrayArgument)\n"
   ]
  },
  {
   "cell_type": "markdown",
   "metadata": {},
   "source": [
    "Confusingly there are many objects in Python that don't appear to behave as in the above example."
   ]
  }
 ],
 "metadata": {
  "kernelspec": {
   "display_name": "Python 2",
   "language": "python",
   "name": "python2"
  },
  "language_info": {
   "codemirror_mode": {
    "name": "ipython",
    "version": 2
   },
   "file_extension": ".py",
   "mimetype": "text/x-python",
   "name": "python",
   "nbconvert_exporter": "python",
   "pygments_lexer": "ipython2",
   "version": "2.7.10"
  }
 },
 "nbformat": 4,
 "nbformat_minor": 0
}
