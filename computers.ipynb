{
 "cells": [
  {
   "cell_type": "markdown",
   "metadata": {},
   "source": [
    "# Computers\n",
    "\n",
    "## Overview\n",
    "\n",
    "You can view a computer, tablet, phone, or similar gadget in very simplistic terms such that they contain the following\n",
    "\n",
    "* CPU - Central Processing Unit - the thing that is running the code and doing the work\n",
    "* Memory - This is where programs to run and data to work on are stored\n",
    "* I/O - Input/Ouput - when data or programs need to get into memory they come in from some form or I/O device\n",
    "\n",
    "## CPU\n",
    "\n",
    "While modern CPUs can be extremely complex and powerful they still follow the same basic model: that of a Turing Machine.  \n",
    "\n",
    "Imagine a deck of cue cards, the kind that may be used for giving a speech or talk.  These would have points written on them to guide the speech and you may also have some blank ones to take notes based on questions you are asked or ideas that come to you during the talk.\n",
    "\n",
    "Now think of all of these cue cards placed on a table, one next to another in a big long line.  If you start from one end of the line you can read all of the speech by looking at each card in turn.  If you need to make notes you move to the very end of the line where you have blank cards, then move back to your place in the talk.\n",
    "\n",
    "If someone asks you to repeat some parts of your talk you would re-read a set of the cards to cover that area of the talk again.  You may also be asked to skip certain topics and jump to others, this would mean you would start looking at cards further down the line.\n",
    "\n",
    "This is a fairly accurate analogy of how a CPU works.  \n",
    "\n",
    "There are simple instructions on each 'card' that the CPU executes.  It starts at the beginning of the cards and keeps going from one to the next.  If so directed it may jump some of the instructions are carry on from a new location.  It may also loop around certain sets of instructions repeating those steps until some condition is met.\n",
    "\n",
    "There are some complications to this model but in essence all CPU simply execute instructions.  The kind of things a CPU can do range from simple maths simple maths operations; add, subtract, divide, multiply, to more complex logical manipulation of binary data.  The information it works on is provided in the instructions themselves but also in the 'blank cards' at the end of the code.  Here a CPU will store results from calculations or read back values from previous working out.\n",
    "\n",
    "The fact that a modern CPU can execute these relatively simple instructions in a tiny fraction of a second means that they can be built up into complex algorithms that manipulate digitial representations of real world data.\n",
    "\n",
    "For example, it's worth considering games for a second; the latest battle simulation games show very realistic moving characters and landscapes; what you see is actually a scene that is drawn and updated many times a second to give the illusion of movement.  Each animation or a character or projectile is carried out by drawing and re-drawing the scene - this takes alot of processing power but modern computers can execute billions of instructions per second.\n",
    "\n",
    "\n",
    "## Memory\n",
    "\n",
    "In the example above, the cue cards can be throught of as the memory in a computer.  Each card is a different location in the whole space.  Some cards, or memory locations, contain program code, others contain data.\n",
    "\n",
    "There are two types of memory that you're likely to come across\n",
    "\n",
    "* RAM - Random Access Memory\n",
    "* ROM - Read Only Memory\n",
    "\n",
    "The first type of memory is what you'll likely be using most of the time; the term Random Access Memory just means that the CPU can jump around locations based on what it needs to find.  Like the cue card analogy, you can look at any card you want - they are all laid out on the (probably very large) table - you don't have to flick through them in any order as you would if you held them old in a pack in your hand.\n",
    "\n",
    "Read Only Memory is mostly used to store code and data that isn't user changable, historically this has been for operating systems and device drivers which allow easy (well easier) access to hardware.  ROM memory is also often used to hold bootstrap code - this is the first instructions that the computer executes when you turn it on.  It usually does some basic setup and then loads more code from a disc or other storage device to carry out more complex operations.\n",
    "\n",
    "The term 'bootstrap' comes from the idea of pulling yourself up by your own show laces!  \n",
    "\n",
    "For most CPUs the memory is organised like the cue cards in an addressable range starting at 0 and rising to some large number (in the range of thousands of millions).  This memory map will have address ranges where there is RAM and also sections that may just be ROM - the boostrap and hardware specific code.\n",
    "\n",
    "A CPU can read memory locations or write to them.  The instructions that are executed can specify an address to read/write.  This address can either be specified explcityly, e.g. \"read from address 1245678\" or it might be calculated, 'write to an address given by adding an offset to a base'.  This calculated or indirect addressing can be used for going through lists of data; store the list at some base location and then use a counter to go through each item one at a time.\n",
    "\n",
    "Again, there is much more to what a CPU can do in terms of memory access but the model of a long list of cue cards still applies; all you really need to understand is that the CPU uses an address to uniquely identify each location and these can hold a certain amount of data.\n",
    "\n",
    "\n",
    "## I/O\n",
    "\n"
   ]
  }
 ],
 "metadata": {
  "kernelspec": {
   "display_name": "Python 2",
   "language": "python",
   "name": "python2"
  },
  "language_info": {
   "codemirror_mode": {
    "name": "ipython",
    "version": 2
   },
   "file_extension": ".py",
   "mimetype": "text/x-python",
   "name": "python",
   "nbconvert_exporter": "python",
   "pygments_lexer": "ipython2",
   "version": "2.7.10"
  }
 },
 "nbformat": 4,
 "nbformat_minor": 0
}
