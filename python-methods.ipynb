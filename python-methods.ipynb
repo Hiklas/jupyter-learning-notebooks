{
 "cells": [
  {
   "cell_type": "markdown",
   "metadata": {},
   "source": [
    "# Methods\n",
    "\n",
    "## Overview\n",
    "\n",
    "Consider the following steps\n",
    "\n",
    "* Get dog lead \n",
    "* Get poo bags\n",
    "* Put collar on dog\n",
    "* Walk dog around the route\n",
    "* Return home\n",
    "* Give the dog fresh water\n",
    "* Give the dog food\n",
    "\n",
    "If you're a dog owner this is pretty much the daily routine, in fact you probably execute the same steps at least twice a day.\n",
    "\n",
    "If you have a dog sitter or friend looking after your pet you may even write these steps down.  In computing terms these set of steps would likely be encapsulated as a method; a task that can be re-used many times without having to write the code for every case where you need it.  You can declare the function once and then call it when needed, for example:\n",
    "\n",
    "```\n",
    "def walk_dog():\n",
    "  get_lead()\n",
    "  get_poo_bags()\n",
    "  put_collar_on_dog()\n",
    "  walk_dog_around_route()\n",
    "  return_home()\n",
    "  give_dog_water()\n",
    "  give_dog_food()\n",
    "\n",
    "```\n",
    "\n",
    "You can call, run, execute, or 'do' those steps using the following line of code\n",
    "\n",
    "```\n",
    "walk_dog()\n",
    "```\n",
    "\n",
    "Every time you write the name of the method followed by parentheses, '()', your method gets run. \n",
    "You'll notice that the steps in our walk_dog() method also look like method calls themselves, quite often this will be the case as you build up other tasks as sets of steps and then re-use these.\n",
    "\n",
    "### Exercises\n",
    "\n",
    "#### Call a method\n",
    "\n",
    "Complete the code below so that it calls the declared method"
   ]
  },
  {
   "cell_type": "code",
   "execution_count": null,
   "metadata": {
    "collapsed": true
   },
   "outputs": [],
   "source": [
    "def my_method():\n",
    "    someString = \"Hello Affi dog!\"\n",
    "    print(someString)\n",
    "    \n",
    "# Call the my_method() method here\n",
    "\n",
    "# Run this code to see the output, it should print the someString message\n"
   ]
  },
  {
   "cell_type": "markdown",
   "metadata": {},
   "source": [
    "#### Declare a function\n",
    "\n",
    "Compete the code below so that it declares a method that will print \"Step1: Learn to program\", \"Step2: Write programs\".  There is already the line of code that will call this method."
   ]
  },
  {
   "cell_type": "code",
   "execution_count": null,
   "metadata": {
    "collapsed": true
   },
   "outputs": [],
   "source": [
    "# Delcare method here\n",
    "\n",
    "\n",
    "# Declare method above\n",
    "\n",
    "# This is the call to the method\n",
    "firstSteps()\n"
   ]
  },
  {
   "cell_type": "markdown",
   "metadata": {},
   "source": [
    "## Arguments\n",
    "\n",
    "Methods can take values which they can use to carry out their work.  A value that is passed to a method is called an argument or parameter, they are very similar to letters in algebra equations or variables in programming languages.  In fact, when you declare a method with arguments you are creating variables which will hold the values being passed.\n",
    "\n",
    "For example\n",
    "\n",
    "```\n",
    "def printWithStars(stringToPrint):\n",
    "  print(\"***\" + stringToPrint + \"***\")\n",
    "\n",
    "```\n",
    "\n"
   ]
  }
 ],
 "metadata": {
  "kernelspec": {
   "display_name": "Python 2",
   "language": "python",
   "name": "python2"
  },
  "language_info": {
   "codemirror_mode": {
    "name": "ipython",
    "version": 2
   },
   "file_extension": ".py",
   "mimetype": "text/x-python",
   "name": "python",
   "nbconvert_exporter": "python",
   "pygments_lexer": "ipython2",
   "version": "2.7.10"
  }
 },
 "nbformat": 4,
 "nbformat_minor": 0
}
