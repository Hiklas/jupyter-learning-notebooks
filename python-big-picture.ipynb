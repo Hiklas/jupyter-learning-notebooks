{
 "cells": [
  {
   "cell_type": "markdown",
   "metadata": {},
   "source": [
    "# The Big Picture\n",
    "\n",
    "## Overview\n",
    "\n",
    "You need to know about the following things when programming in Python or similar languages\n",
    "\n",
    "* Code - the actual chunks of instructions that you write\n",
    "* Objects - the data or information that your program will deal with is stored in objects\n",
    "* Classes - objects that have the same behaviour are grouped into classes\n",
    "\n",
    "## Code\n",
    "\n"
   ]
  }
 ],
 "metadata": {
  "kernelspec": {
   "display_name": "Python 2",
   "language": "python",
   "name": "python2"
  },
  "language_info": {
   "codemirror_mode": {
    "name": "ipython",
    "version": 2
   },
   "file_extension": ".py",
   "mimetype": "text/x-python",
   "name": "python",
   "nbconvert_exporter": "python",
   "pygments_lexer": "ipython2",
   "version": "2.7.10"
  }
 },
 "nbformat": 4,
 "nbformat_minor": 0
}
